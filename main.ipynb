{
 "cells": [
  {
   "cell_type": "code",
   "execution_count": 5,
   "metadata": {
    "is_executing": true
   },
   "outputs": [],
   "source": [
    "import cv2\n",
    "import os"
   ]
  },
  {
   "cell_type": "code",
   "execution_count": 11,
   "metadata": {},
   "outputs": [
    {
     "name": "stdout",
     "output_type": "stream",
     "text": [
      "Similarité avec audi-a3-berline-35-tdi-150-s-tronic-7-occasion-2023-saint-priest-en-jarez.jpg : 77\n",
      "Le logo de l'image d'entrée a été trouvé dans audi-a3-berline-35-tdi-150-s-tronic-7-occasion-2023-saint-priest-en-jarez.jpg\n"
     ]
    }
   ],
   "source": [
    "\n",
    "\n",
    "# Chemin du dossier d'entrée et de sortie\n",
    "chemin_entree = 'C:\\\\Users\\\\kvong\\\\OneDrive\\\\Documents\\\\Projects\\\\projetPython\\\\photo\\\\images_entree'\n",
    "chemin_sortie = 'C:\\\\Users\\\\kvong\\\\OneDrive\\\\Documents\\\\Projects\\\\projetPython\\\\photo\\\\images_sortie'  \n",
    "\n",
    "# Lecture d'image d'entrée\n",
    "image_entree = cv2.imread(os.path.join(chemin_entree, 'Logo-Audi-1.jpg'))\n",
    "\n",
    "# Initialiser ORB (détecteur de caractéristiques)\n",
    "orb = cv2.ORB_create()\n",
    "\n",
    "# Stocker les descripteurs de caractéristiques et les noms de fichiers pour le dossier de sortie\n",
    "descripteurs_sortie = []\n",
    "noms_fichiers_sortie = []\n",
    "\n",
    "# Parcours du dossier de sortie pour la comparaison des photos\n",
    "fichiers_sortie = os.listdir(chemin_sortie)\n",
    "for fichier_sortie in fichiers_sortie:\n",
    "    chemin_fichier_sortie = os.path.join(chemin_sortie, fichier_sortie)\n",
    "    image_sortie = cv2.imread(chemin_fichier_sortie, cv2.IMREAD_GRAYSCALE)\n",
    "\n",
    "    # Obtenir les descripteurs ORB pour chaque image de sortie\n",
    "    kp, des = orb.detectAndCompute(image_sortie, None)\n",
    "    descripteurs_sortie.append(des)\n",
    "    noms_fichiers_sortie.append(fichier_sortie)\n",
    "\n",
    "# Obtenir les descripteurs ORB pour l'image d'entrée\n",
    "kp, des = orb.detectAndCompute(image_entree, None)\n",
    "\n",
    "# Matcher les descripteurs avec ceux du dossier de sortie\n",
    "bf = cv2.BFMatcher(cv2.NORM_HAMMING, crossCheck=True)\n",
    "chemin_image_trouvee = None\n",
    "\n",
    "for i, desc in enumerate(descripteurs_sortie):\n",
    "    matches = bf.match(des, desc)\n",
    "    similarite = len(matches)\n",
    "\n",
    "    print(f\"Similarité avec {noms_fichiers_sortie[i]} : {similarite}\")  # Ajout pour diagnostic\n",
    "\n",
    "    # Définir un seuil de similarité (à adapter selon les résultats)\n",
    "    seuil_similarite = 50\n",
    "\n",
    "    if similarite > seuil_similarite:\n",
    "        chemin_image_trouvee = os.path.join(chemin_sortie, noms_fichiers_sortie[i])\n",
    "        print(f\"Le logo de l'image d'entrée a été trouvé dans {noms_fichiers_sortie[i]}\")\n",
    "        break\n",
    "else:\n",
    "    print(\"Aucun logo correspondant trouvé dans le dossier de sortie\")\n",
    "\n",
    "# Affichage de l'image correspondante\n",
    "if chemin_image_trouvee is not None:\n",
    "    image_trouvee = cv2.imread(chemin_image_trouvee)\n",
    "    cv2.imshow(\"Image correspondante\", image_trouvee)\n",
    "    cv2.waitKey(0)\n",
    "    cv2.destroyAllWindows()\n"
   ]
  }
 ],
 "metadata": {
  "kernelspec": {
   "display_name": "Python 3",
   "language": "python",
   "name": "python3"
  },
  "language_info": {
   "codemirror_mode": {
    "name": "ipython",
    "version": 3
   },
   "file_extension": ".py",
   "mimetype": "text/x-python",
   "name": "python",
   "nbconvert_exporter": "python",
   "pygments_lexer": "ipython3",
   "version": "3.12.1"
  }
 },
 "nbformat": 4,
 "nbformat_minor": 2
}
